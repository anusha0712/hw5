{
 "cells": [
  {
   "cell_type": "code",
   "execution_count": 1,
   "id": "9bfc3445",
   "metadata": {},
   "outputs": [],
   "source": [
    "import requests\n",
    "import os"
   ]
  },
  {
   "cell_type": "code",
   "execution_count": null,
   "id": "45e45922",
   "metadata": {},
   "outputs": [],
   "source": [
    "from dotenv import load_dotenv\n",
    "\n",
    "load_dotenv()  # take environment variables"
   ]
  },
  {
   "cell_type": "markdown",
   "id": "ba6d7f1f",
   "metadata": {},
   "source": [
    "### Examine both Open Meteo and Tomorrow and decide which one you'd prefer to use. What drove your decision?"
   ]
  },
  {
   "cell_type": "markdown",
   "id": "24b8f514",
   "metadata": {},
   "source": [
    "I decided to go with Tomorrow because I felt like I understood the documentation better and because it had examples of requests being made and also used previously imported packages."
   ]
  },
  {
   "cell_type": "markdown",
   "id": "d0840aea",
   "metadata": {},
   "source": [
    "### What is the URL to the documentation? (You don't use code for this one)"
   ]
  },
  {
   "cell_type": "markdown",
   "id": "876794ff",
   "metadata": {},
   "source": [
    "https://docs.tomorrow.io/reference/intro/getting-started"
   ]
  },
  {
   "cell_type": "markdown",
   "id": "56047a78",
   "metadata": {},
   "source": [
    "### Make a request for the current weather where you are born, or somewhere you've lived."
   ]
  },
  {
   "cell_type": "code",
   "execution_count": null,
   "id": "1a956aa3",
   "metadata": {},
   "outputs": [],
   "source": [
    "API_KEY2 = os.getenv(\"API_KEY2\")"
   ]
  },
  {
   "cell_type": "code",
   "execution_count": 2,
   "id": "7effae97",
   "metadata": {},
   "outputs": [],
   "source": [
    "url = url = \"https://api.tomorrow.io/v4/weather/realtime\"\n",
    "\n",
    "params = {\n",
    "    \"apikey\" : API_KEY2,\n",
    "    \"location\" : \"Mumbai\",\n",
    "   \n",
    "    \n",
    "}"
   ]
  },
  {
   "cell_type": "code",
   "execution_count": 3,
   "id": "8587db2f",
   "metadata": {},
   "outputs": [],
   "source": [
    "response = requests.get(url, params)"
   ]
  },
  {
   "cell_type": "code",
   "execution_count": 4,
   "id": "dd3ec353",
   "metadata": {},
   "outputs": [
    {
     "data": {
      "text/plain": [
       "<Response [200]>"
      ]
     },
     "execution_count": 4,
     "metadata": {},
     "output_type": "execute_result"
    }
   ],
   "source": [
    "response"
   ]
  },
  {
   "cell_type": "code",
   "execution_count": 5,
   "id": "660b536c",
   "metadata": {
    "scrolled": true
   },
   "outputs": [
    {
     "data": {
      "text/plain": [
       "{'data': {'time': '2024-11-07T19:33:00Z',\n",
       "  'values': {'cloudBase': None,\n",
       "   'cloudCeiling': None,\n",
       "   'cloudCover': 0,\n",
       "   'dewPoint': 17.81,\n",
       "   'freezingRainIntensity': 0,\n",
       "   'humidity': 81,\n",
       "   'precipitationProbability': 0,\n",
       "   'pressureSurfaceLevel': 1009.25,\n",
       "   'rainIntensity': 0,\n",
       "   'sleetIntensity': 0,\n",
       "   'snowIntensity': 0,\n",
       "   'temperature': 26.19,\n",
       "   'temperatureApparent': 26.19,\n",
       "   'uvHealthConcern': 0,\n",
       "   'uvIndex': 0,\n",
       "   'visibility': 16,\n",
       "   'weatherCode': 1000,\n",
       "   'windDirection': 36.69,\n",
       "   'windGust': 2.69,\n",
       "   'windSpeed': 2.19}},\n",
       " 'location': {'lat': 19.07854461669922,\n",
       "  'lon': 72.878173828125,\n",
       "  'name': 'Mumbai Suburban, Maharashtra, India',\n",
       "  'type': 'administrative'}}"
      ]
     },
     "execution_count": 5,
     "metadata": {},
     "output_type": "execute_result"
    }
   ],
   "source": [
    "#current (realtime) weather for Mumbai\n",
    "mumbai_data = response.json()\n",
    "mumbai_data"
   ]
  },
  {
   "cell_type": "code",
   "execution_count": 6,
   "id": "d4bbe3c3",
   "metadata": {},
   "outputs": [
    {
     "data": {
      "text/plain": [
       "dict_keys(['data', 'location'])"
      ]
     },
     "execution_count": 6,
     "metadata": {},
     "output_type": "execute_result"
    }
   ],
   "source": [
    "mumbai_data.keys()"
   ]
  },
  {
   "cell_type": "markdown",
   "id": "8feb4a20",
   "metadata": {},
   "source": [
    "### Print out the country this location is in."
   ]
  },
  {
   "cell_type": "code",
   "execution_count": 7,
   "id": "a7b19af7",
   "metadata": {},
   "outputs": [
    {
     "data": {
      "text/plain": [
       "'India'"
      ]
     },
     "execution_count": 7,
     "metadata": {},
     "output_type": "execute_result"
    }
   ],
   "source": [
    "country = mumbai_data[\"location\"][\"name\"].split(', ')[-1]\n",
    "country"
   ]
  },
  {
   "cell_type": "markdown",
   "id": "da3a2e91",
   "metadata": {},
   "source": [
    "### Print out the difference between the current temperature and how warm it feels. Use \"It feels ___ degrees colder\" or \"It feels ___ degrees warmer,\" not negative numbers."
   ]
  },
  {
   "cell_type": "code",
   "execution_count": 8,
   "id": "1e6f5b20",
   "metadata": {
    "scrolled": false
   },
   "outputs": [
    {
     "data": {
      "text/plain": [
       "0.0"
      ]
     },
     "execution_count": 8,
     "metadata": {},
     "output_type": "execute_result"
    }
   ],
   "source": [
    "current_temp = mumbai_data[\"data\"][\"values\"][\"temperature\"]\n",
    "\n",
    "#'feels like'\n",
    "apparent_temp = mumbai_data[\"data\"][\"values\"][\"temperatureApparent\"]\n",
    "\n",
    "temp_diff = current_temp - apparent_temp\n",
    "temp_diff"
   ]
  },
  {
   "cell_type": "code",
   "execution_count": 9,
   "id": "ae9e2e96",
   "metadata": {},
   "outputs": [
    {
     "name": "stdout",
     "output_type": "stream",
     "text": [
      "Temperature and what it feels like is the same\n"
     ]
    }
   ],
   "source": [
    "if temp_diff > 0:\n",
    "    abs_diff = abs(temp_diff)\n",
    "    print(f\"It feels {abs_diff} colder\")\n",
    "    \n",
    "elif temp_diff < 0:\n",
    "    abs_diff = abs(temp_diff)\n",
    "    print(f\"It feels {abs_diff} warmer\")\n",
    "    \n",
    "elif temp_diff == 0:\n",
    "    print(\"Temperature and what it feels like is the same\")\n",
    "    "
   ]
  },
  {
   "cell_type": "markdown",
   "id": "ea403f77",
   "metadata": {},
   "source": [
    "### What's the current temperature at Heathrow International Airport? Use the airport's IATA code to search."
   ]
  },
  {
   "cell_type": "code",
   "execution_count": 10,
   "id": "032937f2",
   "metadata": {},
   "outputs": [],
   "source": [
    "#using coordinates for London Airport\n",
    "\n",
    "url = \"https://api.tomorrow.io/v4/weather/realtime\"\n",
    "\n",
    "params = {\n",
    "    \"apikey\" : API_KEY2,\n",
    "    \"location\" : \"51.4680, -0.4551\"\n",
    "   \n",
    "    \n",
    "}"
   ]
  },
  {
   "cell_type": "code",
   "execution_count": 11,
   "id": "d901748b",
   "metadata": {},
   "outputs": [],
   "source": [
    "response = requests.get(url, params)"
   ]
  },
  {
   "cell_type": "code",
   "execution_count": 12,
   "id": "8b7d567c",
   "metadata": {},
   "outputs": [
    {
     "data": {
      "text/plain": [
       "<Response [200]>"
      ]
     },
     "execution_count": 12,
     "metadata": {},
     "output_type": "execute_result"
    }
   ],
   "source": [
    "response"
   ]
  },
  {
   "cell_type": "code",
   "execution_count": 13,
   "id": "08df1dea",
   "metadata": {},
   "outputs": [
    {
     "data": {
      "text/plain": [
       "{'data': {'time': '2024-11-07T19:34:00Z',\n",
       "  'values': {'cloudBase': 0.25,\n",
       "   'cloudCeiling': 0.25,\n",
       "   'cloudCover': 100,\n",
       "   'dewPoint': 8.5,\n",
       "   'freezingRainIntensity': 0,\n",
       "   'humidity': 87,\n",
       "   'precipitationProbability': 0,\n",
       "   'pressureSurfaceLevel': 1026.86,\n",
       "   'rainIntensity': 0,\n",
       "   'sleetIntensity': 0,\n",
       "   'snowIntensity': 0,\n",
       "   'temperature': 10.5,\n",
       "   'temperatureApparent': 10.5,\n",
       "   'uvHealthConcern': 0,\n",
       "   'uvIndex': 0,\n",
       "   'visibility': 16,\n",
       "   'weatherCode': 1001,\n",
       "   'windDirection': 86.5,\n",
       "   'windGust': 5.69,\n",
       "   'windSpeed': 3.19}},\n",
       " 'location': {'lat': 51.468, 'lon': -0.4551}}"
      ]
     },
     "execution_count": 13,
     "metadata": {},
     "output_type": "execute_result"
    }
   ],
   "source": [
    "lhr_data = response.json()\n",
    "lhr_data"
   ]
  },
  {
   "cell_type": "code",
   "execution_count": 14,
   "id": "ca6b9105",
   "metadata": {},
   "outputs": [
    {
     "data": {
      "text/plain": [
       "10.5"
      ]
     },
     "execution_count": 14,
     "metadata": {},
     "output_type": "execute_result"
    }
   ],
   "source": [
    "current_lhr_temp = lhr_data[\"data\"][\"values\"][\"temperature\"]\n",
    "current_lhr_temp"
   ]
  },
  {
   "cell_type": "markdown",
   "id": "66db0a47",
   "metadata": {},
   "source": [
    "### What URL would I use to request a 3-day forecast at Heathrow?"
   ]
  },
  {
   "cell_type": "code",
   "execution_count": 15,
   "id": "a10ce770",
   "metadata": {},
   "outputs": [],
   "source": [
    "#instead of using the timestep parameter (only premium users) - this just gives you 6 days of data directly\n",
    "\n",
    "url = \"https://api.tomorrow.io/v4/weather/forecast\"\n",
    "\n",
    "params = {\n",
    "    \"apikey\" : API_KEY2,\n",
    "    \"location\" : \"51.4680, -0.4551\",\n",
    "      \n",
    "}"
   ]
  },
  {
   "cell_type": "code",
   "execution_count": 16,
   "id": "faabae74",
   "metadata": {},
   "outputs": [],
   "source": [
    "response = requests.get(url, params)"
   ]
  },
  {
   "cell_type": "code",
   "execution_count": 17,
   "id": "bbd14260",
   "metadata": {},
   "outputs": [],
   "source": [
    "lhr_forecast_data = response.json()"
   ]
  },
  {
   "cell_type": "code",
   "execution_count": 18,
   "id": "5a2cf177",
   "metadata": {},
   "outputs": [
    {
     "data": {
      "text/plain": [
       "dict_keys(['minutely', 'hourly', 'daily'])"
      ]
     },
     "execution_count": 18,
     "metadata": {},
     "output_type": "execute_result"
    }
   ],
   "source": [
    "lhr_forecast_data[\"timelines\"].keys()"
   ]
  },
  {
   "cell_type": "markdown",
   "id": "9477665b",
   "metadata": {},
   "source": [
    "### Print the date of each of the 3 days you're getting a forecast for."
   ]
  },
  {
   "cell_type": "code",
   "execution_count": 19,
   "id": "22424e64",
   "metadata": {},
   "outputs": [
    {
     "name": "stdout",
     "output_type": "stream",
     "text": [
      "2024-11-07\n",
      "2024-11-08\n",
      "2024-11-09\n"
     ]
    }
   ],
   "source": [
    "for day in lhr_forecast_data[\"timelines\"][\"daily\"][:3]:\n",
    "    date = day[\"time\"].split(\"T\")[0]\n",
    "    print(date)"
   ]
  },
  {
   "cell_type": "markdown",
   "id": "316221b3",
   "metadata": {},
   "source": [
    "### Print the maximum temperature of each of the days."
   ]
  },
  {
   "cell_type": "code",
   "execution_count": 20,
   "id": "b15b0dbf",
   "metadata": {},
   "outputs": [],
   "source": [
    "# Can i just make one for loop to calculate some this stuff? \n",
    "# Like I could combine maxtemp and date calc without writing the same code again? "
   ]
  },
  {
   "cell_type": "code",
   "execution_count": 21,
   "id": "a5c367a8",
   "metadata": {},
   "outputs": [
    {
     "name": "stdout",
     "output_type": "stream",
     "text": [
      "Max temperature for 2024-11-07 is 12.69\n",
      "Max temperature for 2024-11-08 is 10.19\n",
      "Max temperature for 2024-11-09 is 8.92\n"
     ]
    }
   ],
   "source": [
    "for day in lhr_forecast_data[\"timelines\"][\"daily\"][:3]:\n",
    "    date = day[\"time\"].split(\"T\")[0]\n",
    "    max_temp = day[\"values\"][\"temperatureMax\"]\n",
    "    print(f\"Max temperature for {date} is {max_temp}\")"
   ]
  },
  {
   "cell_type": "markdown",
   "id": "f601e87e",
   "metadata": {},
   "source": [
    "### Print only the day with the highest maximum temperature."
   ]
  },
  {
   "cell_type": "markdown",
   "id": "98eb885b",
   "metadata": {},
   "source": [
    "Just trying to learn list comprehensions!!"
   ]
  },
  {
   "cell_type": "code",
   "execution_count": 22,
   "id": "cb1c9d1a",
   "metadata": {},
   "outputs": [
    {
     "data": {
      "text/plain": [
       "[12.69, 10.19, 8.92]"
      ]
     },
     "execution_count": 22,
     "metadata": {},
     "output_type": "execute_result"
    }
   ],
   "source": [
    "all_max_temps = [day[\"values\"][\"temperatureMax\"] for day in lhr_forecast_data[\"timelines\"][\"daily\"][:3]]\n",
    "all_max_temps #list of max temps from 3 day forecast"
   ]
  },
  {
   "cell_type": "code",
   "execution_count": 23,
   "id": "13b52234",
   "metadata": {},
   "outputs": [
    {
     "data": {
      "text/plain": [
       "'2024-11-07'"
      ]
     },
     "execution_count": 23,
     "metadata": {},
     "output_type": "execute_result"
    }
   ],
   "source": [
    "highest_max_temp = max(all_max_temps) #highest maximum temperature\n",
    "\n",
    "#index of the highest max temp in the list since that would correspond to day in data dictionary\n",
    "index_of_max = all_max_temps.index(highest_max_temp) \n",
    "\n",
    "#access the date of that highest max using the index found\n",
    "\n",
    "timestamp = lhr_forecast_data[\"timelines\"][\"daily\"][index_of_max][\"time\"]\n",
    "date_of_overall_max_temp = timestamp.split(\"T\")[0]\n",
    "\n",
    "date_of_overall_max_temp"
   ]
  },
  {
   "cell_type": "markdown",
   "id": "f952a83b",
   "metadata": {},
   "source": [
    "### Did you find this easier or more difficult than using the weatherapi.com, and why? Which would you recommend to someone interesting in building a tool around weather information?"
   ]
  },
  {
   "cell_type": "markdown",
   "id": "a3c727e4",
   "metadata": {},
   "source": [
    "Around the same but I think the WeatherApi was slightly easier for me. Maybe because that's the one we went over in class? I just found the query parameters better documented and it didnt have restrictions for premium features and personally I found the query builder nicer on WeatherAPI so I could see how the queries are built to look. \n",
    "\n",
    "\n",
    "I would recommend WeatherApi UNLESS they are willing to get the premium version of Tomorrow. In that case, I would recommend Tomorrow because the visualization integration is pretty cool in that."
   ]
  },
  {
   "cell_type": "code",
   "execution_count": null,
   "id": "f506af79",
   "metadata": {},
   "outputs": [],
   "source": []
  }
 ],
 "metadata": {
  "kernelspec": {
   "display_name": "Python 3 (ipykernel)",
   "language": "python",
   "name": "python3"
  },
  "language_info": {
   "codemirror_mode": {
    "name": "ipython",
    "version": 3
   },
   "file_extension": ".py",
   "mimetype": "text/x-python",
   "name": "python",
   "nbconvert_exporter": "python",
   "pygments_lexer": "ipython3",
   "version": "3.12.7"
  }
 },
 "nbformat": 4,
 "nbformat_minor": 5
}
